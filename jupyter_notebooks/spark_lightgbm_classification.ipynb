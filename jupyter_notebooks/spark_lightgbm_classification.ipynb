{
 "cells": [
  {
   "cell_type": "code",
   "execution_count": 1,
   "id": "4006e488",
   "metadata": {},
   "outputs": [],
   "source": [
    "import pandas as pd\n",
    "import os\n",
    "import itertools\n",
    "from pyspark.sql import SparkSession\n",
    "import time\n",
    "from lightgbm import LGBMClassifier\n",
    "import lightgbm as lgb\n",
    "from sklearn.metrics import accuracy_score, precision_score, recall_score, f1_score, roc_auc_score, classification_report\n",
    "import uuid\n",
    "\n"
   ]
  },
  {
   "cell_type": "code",
   "execution_count": 2,
   "id": "cf953eaa",
   "metadata": {},
   "outputs": [],
   "source": [
    "DATA_DIR = \"/home/jovyan/data\"\n",
    "RESULTS_DIR = \"/home/jovyan/results/classification\""
   ]
  },
  {
   "cell_type": "code",
   "execution_count": 3,
   "id": "1710215c",
   "metadata": {},
   "outputs": [],
   "source": [
    "# clean up the results directory\n",
    "if os.path.exists(RESULTS_DIR):\n",
    "    for item in os.listdir(RESULTS_DIR):\n",
    "        item_path = os.path.join(RESULTS_DIR, item)\n",
    "        if os.path.isfile(item_path):\n",
    "            os.remove(item_path)\n",
    "        elif os.path.isdir(item_path):\n",
    "            import shutil\n",
    "            shutil.rmtree(item_path)\n"
   ]
  },
  {
   "cell_type": "code",
   "execution_count": 4,
   "id": "bdd8502a",
   "metadata": {},
   "outputs": [
    {
     "name": "stdout",
     "output_type": "stream",
     "text": [
      "Spark version: 4.0.0-preview2\n",
      "Spark UI available at: http://38f3dc079cb5:4040\n"
     ]
    }
   ],
   "source": [
    "# .config((\"spark.driver.maxResultSize\", \"4g\")) \\\n",
    "# Create a Spark session\n",
    "spark = SparkSession.builder \\\n",
    "    .appName(\"SparkLightgbmClassification\") \\\n",
    "    .master(os.environ.get(\"SPARK_MASTER\", \"spark://spark-master:7077\")) \\\n",
    "    .config(\"spark.executor.memory\", \"4g\") \\\n",
    "    .config(\"spark.driver.maxResultSize\", \"1g\") \\\n",
    "    .config(\"spark.python.worker.faulthandler.enabled\", \"true\") \\\n",
    "    .config(\"spark.sql.execution.pyspark.udf.faulthandler.enabled\", \"true\") \\\n",
    "    .getOrCreate()\n",
    "\n",
    "# get spark context\n",
    "sc = spark.sparkContext\n",
    "\n",
    "print(f\"Spark version: {spark.version}\")\n",
    "print(f\"Spark UI available at: {spark.sparkContext.uiWebUrl}\")"
   ]
  },
  {
   "cell_type": "code",
   "execution_count": 5,
   "id": "b5a521bc",
   "metadata": {},
   "outputs": [
    {
     "data": {
      "text/plain": [
       "[1, 2, 3, 4]"
      ]
     },
     "execution_count": 5,
     "metadata": {},
     "output_type": "execute_result"
    }
   ],
   "source": [
    "# get unique fold ids from the spark DataFrame\n",
    "fold_ids = [1, 2, 3, 4]\n",
    "\n",
    "fold_ids"
   ]
  },
  {
   "cell_type": "code",
   "execution_count": 6,
   "id": "857d521f",
   "metadata": {},
   "outputs": [],
   "source": [
    "def train_lightgbm_model(params=None):\n",
    "    \"\"\"\n",
    "    Train a LightGBM classification model with the specified parameters.\n",
    "    \n",
    "    Parameters:\n",
    "    -----------\n",
    "    params : dict, optional\n",
    "        Parameters for LGBMClassifier. If None, default parameters will be used.\n",
    "        \n",
    "    Returns:\n",
    "    --------\n",
    "    str\n",
    "        File path where results are stored\n",
    "    \"\"\"\n",
    "    \n",
    "    print(f\"Training LightGBM classification model...{params}\")\n",
    "    # Default parameters if none provided\n",
    "    if params is None:\n",
    "        raise ValueError(\"No parameters provided for LightGBM model.\")\n",
    "    \n",
    "    fold_id = params.pop(\"fold_id\")\n",
    "\n",
    "    test_df = pd.read_parquet(\n",
    "        os.path.join(DATA_DIR, f\"ts_fold_{fold_id}_test.parquet\"),\n",
    "    )\n",
    "    train_df = pd.read_parquet(\n",
    "        os.path.join(DATA_DIR, f\"ts_fold_{fold_id}_train.parquet\"),\n",
    "    )\n",
    "\n",
    "    train_x = train_df.drop(columns=[\"target\", \"date\"])\n",
    "    train_y = train_df[\"target\"]\n",
    "    test_x = test_df.drop(columns=[\"target\", \"date\"])\n",
    "    test_y = test_df[\"target\"]\n",
    "\n",
    "    # Initialize the classification model\n",
    "    model = LGBMClassifier(**params)\n",
    "    \n",
    "    # Train the model and measure time\n",
    "    start_time = time.perf_counter()\n",
    "    model.fit(\n",
    "        train_x, train_y,\n",
    "        eval_set=[(test_x, test_y)],\n",
    "        eval_metric='logloss',\n",
    "        callbacks=[\n",
    "            lgb.early_stopping(stopping_rounds=2000),\n",
    "            lgb.log_evaluation(period=100),\n",
    "        ]\n",
    "    )\n",
    "    end_time = time.perf_counter()\n",
    "    training_time = end_time - start_time\n",
    "    \n",
    "    # Make predictions\n",
    "    y_pred_proba = model.predict_proba(test_x)[:, 1]  # Probability of positive class\n",
    "    y_pred = model.predict(test_x)  # Class predictions\n",
    "    \n",
    "    # Calculate classification metrics\n",
    "    accuracy = accuracy_score(test_y, y_pred)\n",
    "    precision = precision_score(test_y, y_pred)\n",
    "    recall = recall_score(test_y, y_pred)\n",
    "    f1 = f1_score(test_y, y_pred)\n",
    "    auc = roc_auc_score(test_y, y_pred_proba)\n",
    "\n",
    "    # Store detailed classification report as string\n",
    "    class_report = classification_report(test_y, y_pred)\n",
    "    print(f\"\\nClassification Report for fold {fold_id}:\")\n",
    "    print(class_report)\n",
    "\n",
    "    results = {\n",
    "        \"fold_id\": fold_id,\n",
    "        'accuracy': accuracy,\n",
    "        'precision': precision,\n",
    "        'recall': recall,\n",
    "        'f1_score': f1,\n",
    "        'auc_roc': auc,\n",
    "        'training_time': training_time,\n",
    "    }\n",
    "    results.update(params)\n",
    "\n",
    "    # generate uuid string for the results file name\n",
    "    fp_id = str(uuid.uuid4())\n",
    "    fp_name = os.path.join(RESULTS_DIR, f\"results_fold_{fold_id}_{fp_id}.parquet\")\n",
    "\n",
    "    results_df = pd.DataFrame([results])\n",
    "    results_df.to_parquet(\n",
    "        fp_name,\n",
    "        index=False,\n",
    "    )\n",
    "\n",
    "    return fp_name"
   ]
  },
  {
   "cell_type": "code",
   "execution_count": 7,
   "id": "e5f0fcb0",
   "metadata": {},
   "outputs": [
    {
     "name": "stdout",
     "output_type": "stream",
     "text": [
      "Total number of parameter combinations: 216\n",
      "\n",
      "First 3 parameter combinations:\n",
      "Combination 1:\n",
      "{'n_jobs': 2, 'fold_id': 1, 'lambda_l1': 0.3, 'max_depth': 10, 'colsample_bytree': 0.1, 'alpha': 0.2, 'num_leaves': 2048, 'learning_rate': 0.03, 'lambda_l2': 0.01, 'max_bin': 256, 'bagging_fraction': 1, 'deterministic': False, 'objective': 'huber', 'metric': 'huber', 'n_estimators': 20000, 'random_state': 42, 'importance_type': 'gain'}\n",
      "Combination 2:\n",
      "{'n_jobs': 2, 'fold_id': 1, 'lambda_l1': 0.3, 'max_depth': 10, 'colsample_bytree': 0.1, 'alpha': 0.2, 'num_leaves': 2048, 'learning_rate': 0.03, 'lambda_l2': 0.1, 'max_bin': 256, 'bagging_fraction': 1, 'deterministic': False, 'objective': 'huber', 'metric': 'huber', 'n_estimators': 20000, 'random_state': 42, 'importance_type': 'gain'}\n",
      "Combination 3:\n",
      "{'n_jobs': 2, 'fold_id': 1, 'lambda_l1': 0.3, 'max_depth': 10, 'colsample_bytree': 0.3, 'alpha': 0.2, 'num_leaves': 2048, 'learning_rate': 0.03, 'lambda_l2': 0.01, 'max_bin': 256, 'bagging_fraction': 1, 'deterministic': False, 'objective': 'huber', 'metric': 'huber', 'n_estimators': 20000, 'random_state': 42, 'importance_type': 'gain'}\n"
     ]
    }
   ],
   "source": [
    "# Define the parameter grid for hyperparameter tuning\n",
    "\n",
    "param_grid = {\n",
    "    \"n_jobs\": [2],\n",
    "    \"fold_id\": fold_ids,\n",
    "    \"lambda_l1\": [0.3, 12, 40],\n",
    "    \"max_depth\": [10, 15, 17],\n",
    "    \"colsample_bytree\": [0.1, 0.3, 0.4],\n",
    "    \"alpha\": [0.2],\n",
    "    \"num_leaves\": [2048,],\n",
    "    \"learning_rate\": [0.03],\n",
    "    \"lambda_l2\": [0.01, 0.1],\n",
    "    \"max_bin\": [256,],\n",
    "    \"bagging_fraction\": [1],\n",
    "    \"deterministic\": [False],\n",
    "    \"objective\": [\"huber\"],\n",
    "    \"metric\": [\"huber\"],\n",
    "    \"n_estimators\": [20000],\n",
    "    \"random_state\": [42],\n",
    "    \"importance_type\": [\"gain\"],\n",
    "}\n",
    "\n",
    "\n",
    "# Generate all combinations of parameters\n",
    "param_keys = list(param_grid.keys())\n",
    "param_values = list(param_grid.values())\n",
    "param_combinations = list(itertools.product(*param_values))\n",
    "\n",
    "# Create a list of dictionaries, each representing a specific combination\n",
    "param_dicts = []\n",
    "for combo in param_combinations:\n",
    "    param_dict = dict(zip(param_keys, combo))\n",
    "    param_dicts.append(param_dict)\n",
    "\n",
    "# Display the number of combinations and the first few combinations\n",
    "print(f\"Total number of parameter combinations: {len(param_dicts)}\")\n",
    "print(\"\\nFirst 3 parameter combinations:\")\n",
    "for i in range(min(3, len(param_dicts))):\n",
    "    print(f\"Combination {i+1}:\")\n",
    "    print(param_dicts[i])\n"
   ]
  },
  {
   "cell_type": "code",
   "execution_count": 8,
   "id": "c624c72e",
   "metadata": {},
   "outputs": [
    {
     "name": "stdout",
     "output_type": "stream",
     "text": [
      ">>>>length of rdd_result: 216\n",
      "CPU times: user 197 ms, sys: 25.6 ms, total: 223 ms\n",
      "Wall time: 21min 56s\n"
     ]
    }
   ],
   "source": [
    "%%time\n",
    "process_these = param_dicts\n",
    "\n",
    "rdd = sc.parallelize(process_these, numSlices=len(process_these))\n",
    "\n",
    "rdd_result = rdd.map(lambda x: train_lightgbm_model(params=x)).collect()\n",
    "\n",
    "print(f\">>>>length of rdd_result: {len(rdd_result)}\")\n"
   ]
  },
  {
   "cell_type": "code",
   "execution_count": 9,
   "id": "248fd044",
   "metadata": {},
   "outputs": [
    {
     "data": {
      "text/plain": [
       "<bound method NDFrame.head of      fold_id  accuracy  precision    recall  f1_score   auc_roc  \\\n",
       "0          1   0.85750   0.929913  0.701590  0.799775  0.940603   \n",
       "1          1   0.86115   0.934811  0.707013  0.805109  0.942692   \n",
       "2          1   0.92600   0.952517  0.860471  0.904157  0.967199   \n",
       "3          1   0.92855   0.952478  0.867127  0.907801  0.967815   \n",
       "4          1   0.93405   0.952571  0.881302  0.915552  0.967652   \n",
       "..       ...       ...        ...       ...       ...       ...   \n",
       "211        4   0.90705   0.942284  0.823866  0.879105  0.960539   \n",
       "212        4   0.91875   0.946882  0.849586  0.895599  0.964998   \n",
       "213        4   0.91645   0.945817  0.844710  0.892409  0.964568   \n",
       "214        4   0.91860   0.946133  0.849951  0.895467  0.964824   \n",
       "215        4   0.91955   0.946151  0.852389  0.896826  0.964926   \n",
       "\n",
       "     training_time  n_jobs  lambda_l1  max_depth  ...  learning_rate  \\\n",
       "0        19.739238       2        0.3         10  ...           0.03   \n",
       "1        19.637438       2        0.3         10  ...           0.03   \n",
       "2        29.245579       2        0.3         10  ...           0.03   \n",
       "3        27.466559       2        0.3         10  ...           0.03   \n",
       "4        32.392409       2        0.3         10  ...           0.03   \n",
       "..             ...     ...        ...        ...  ...            ...   \n",
       "211      35.504125       2       40.0         17  ...           0.03   \n",
       "212      22.045848       2       40.0         17  ...           0.03   \n",
       "213      19.357694       2       40.0         17  ...           0.03   \n",
       "214      19.786805       2       40.0         17  ...           0.03   \n",
       "215      31.682703       2       40.0         17  ...           0.03   \n",
       "\n",
       "     lambda_l2  max_bin  bagging_fraction  deterministic  objective  metric  \\\n",
       "0         0.01      256                 1          False      huber   huber   \n",
       "1         0.10      256                 1          False      huber   huber   \n",
       "2         0.01      256                 1          False      huber   huber   \n",
       "3         0.10      256                 1          False      huber   huber   \n",
       "4         0.01      256                 1          False      huber   huber   \n",
       "..         ...      ...               ...            ...        ...     ...   \n",
       "211       0.10      256                 1          False      huber   huber   \n",
       "212       0.01      256                 1          False      huber   huber   \n",
       "213       0.10      256                 1          False      huber   huber   \n",
       "214       0.01      256                 1          False      huber   huber   \n",
       "215       0.10      256                 1          False      huber   huber   \n",
       "\n",
       "     n_estimators random_state importance_type  \n",
       "0           20000           42            gain  \n",
       "1           20000           42            gain  \n",
       "2           20000           42            gain  \n",
       "3           20000           42            gain  \n",
       "4           20000           42            gain  \n",
       "..            ...          ...             ...  \n",
       "211         20000           42            gain  \n",
       "212         20000           42            gain  \n",
       "213         20000           42            gain  \n",
       "214         20000           42            gain  \n",
       "215         20000           42            gain  \n",
       "\n",
       "[216 rows x 23 columns]>"
      ]
     },
     "execution_count": 9,
     "metadata": {},
     "output_type": "execute_result"
    }
   ],
   "source": [
    "df_list = [pd.read_parquet(fp) for fp in rdd_result]\n",
    "results_df = pd.concat(df_list, ignore_index=True)\n",
    "\n",
    "results_df.head"
   ]
  },
  {
   "cell_type": "code",
   "execution_count": 10,
   "id": "28c97346",
   "metadata": {},
   "outputs": [
    {
     "data": {
      "application/vnd.microsoft.datawrangler.viewer.v0+json": {
       "columns": [
        {
         "name": "index",
         "rawType": "object",
         "type": "string"
        },
        {
         "name": "training_time",
         "rawType": "float64",
         "type": "float"
        },
        {
         "name": "accuracy",
         "rawType": "float64",
         "type": "float"
        },
        {
         "name": "precision",
         "rawType": "float64",
         "type": "float"
        },
        {
         "name": "recall",
         "rawType": "float64",
         "type": "float"
        },
        {
         "name": "f1_score",
         "rawType": "float64",
         "type": "float"
        },
        {
         "name": "auc_roc",
         "rawType": "float64",
         "type": "float"
        }
       ],
       "conversionMethod": "pd.DataFrame",
       "ref": "13f88807-3369-4be2-bf15-bc766ebce25e",
       "rows": [
        [
         "count",
         "216.0",
         "216.0",
         "216.0",
         "216.0",
         "216.0",
         "216.0"
        ],
        [
         "mean",
         "38.884910101851865",
         "0.9050664351851851",
         "0.945342060174329",
         "0.8124339907484952",
         "0.8717893662337517",
         "0.9588934180527454"
        ],
        [
         "std",
         "31.83312155464732",
         "0.03331727145889271",
         "0.009867018162290984",
         "0.08248647219724764",
         "0.05107261255828406",
         "0.010643619181574691"
        ],
        [
         "min",
         "3.099281584999517",
         "0.8303",
         "0.9013853716669149",
         "0.6188357434186132",
         "0.7468675417661098",
         "0.9324632627981034"
        ],
        [
         "25%",
         "16.758390622250317",
         "0.8819250000000001",
         "0.942836758993213",
         "0.7538314176245211",
         "0.83668128125282",
         "0.9533126933545065"
        ],
        [
         "50%",
         "30.21244813949943",
         "0.90755",
         "0.9475394481413231",
         "0.8228912725499756",
         "0.879111592793556",
         "0.9621977865697775"
        ],
        [
         "75%",
         "54.93231471250033",
         "0.935825",
         "0.9524875944898686",
         "0.8885088919288646",
         "0.9175844399357753",
         "0.9670623079466616"
        ],
        [
         "max",
         "151.51884427799996",
         "0.9525",
         "0.9584748379129361",
         "0.9296684544124817",
         "0.9413725006171316",
         "0.9721674384411478"
        ]
       ],
       "shape": {
        "columns": 6,
        "rows": 8
       }
      },
      "text/html": [
       "<div>\n",
       "<style scoped>\n",
       "    .dataframe tbody tr th:only-of-type {\n",
       "        vertical-align: middle;\n",
       "    }\n",
       "\n",
       "    .dataframe tbody tr th {\n",
       "        vertical-align: top;\n",
       "    }\n",
       "\n",
       "    .dataframe thead th {\n",
       "        text-align: right;\n",
       "    }\n",
       "</style>\n",
       "<table border=\"1\" class=\"dataframe\">\n",
       "  <thead>\n",
       "    <tr style=\"text-align: right;\">\n",
       "      <th></th>\n",
       "      <th>training_time</th>\n",
       "      <th>accuracy</th>\n",
       "      <th>precision</th>\n",
       "      <th>recall</th>\n",
       "      <th>f1_score</th>\n",
       "      <th>auc_roc</th>\n",
       "    </tr>\n",
       "  </thead>\n",
       "  <tbody>\n",
       "    <tr>\n",
       "      <th>count</th>\n",
       "      <td>216.000000</td>\n",
       "      <td>216.000000</td>\n",
       "      <td>216.000000</td>\n",
       "      <td>216.000000</td>\n",
       "      <td>216.000000</td>\n",
       "      <td>216.000000</td>\n",
       "    </tr>\n",
       "    <tr>\n",
       "      <th>mean</th>\n",
       "      <td>38.884910</td>\n",
       "      <td>0.905066</td>\n",
       "      <td>0.945342</td>\n",
       "      <td>0.812434</td>\n",
       "      <td>0.871789</td>\n",
       "      <td>0.958893</td>\n",
       "    </tr>\n",
       "    <tr>\n",
       "      <th>std</th>\n",
       "      <td>31.833122</td>\n",
       "      <td>0.033317</td>\n",
       "      <td>0.009867</td>\n",
       "      <td>0.082486</td>\n",
       "      <td>0.051073</td>\n",
       "      <td>0.010644</td>\n",
       "    </tr>\n",
       "    <tr>\n",
       "      <th>min</th>\n",
       "      <td>3.099282</td>\n",
       "      <td>0.830300</td>\n",
       "      <td>0.901385</td>\n",
       "      <td>0.618836</td>\n",
       "      <td>0.746868</td>\n",
       "      <td>0.932463</td>\n",
       "    </tr>\n",
       "    <tr>\n",
       "      <th>25%</th>\n",
       "      <td>16.758391</td>\n",
       "      <td>0.881925</td>\n",
       "      <td>0.942837</td>\n",
       "      <td>0.753831</td>\n",
       "      <td>0.836681</td>\n",
       "      <td>0.953313</td>\n",
       "    </tr>\n",
       "    <tr>\n",
       "      <th>50%</th>\n",
       "      <td>30.212448</td>\n",
       "      <td>0.907550</td>\n",
       "      <td>0.947539</td>\n",
       "      <td>0.822891</td>\n",
       "      <td>0.879112</td>\n",
       "      <td>0.962198</td>\n",
       "    </tr>\n",
       "    <tr>\n",
       "      <th>75%</th>\n",
       "      <td>54.932315</td>\n",
       "      <td>0.935825</td>\n",
       "      <td>0.952488</td>\n",
       "      <td>0.888509</td>\n",
       "      <td>0.917584</td>\n",
       "      <td>0.967062</td>\n",
       "    </tr>\n",
       "    <tr>\n",
       "      <th>max</th>\n",
       "      <td>151.518844</td>\n",
       "      <td>0.952500</td>\n",
       "      <td>0.958475</td>\n",
       "      <td>0.929668</td>\n",
       "      <td>0.941373</td>\n",
       "      <td>0.972167</td>\n",
       "    </tr>\n",
       "  </tbody>\n",
       "</table>\n",
       "</div>"
      ],
      "text/plain": [
       "       training_time    accuracy   precision      recall    f1_score  \\\n",
       "count     216.000000  216.000000  216.000000  216.000000  216.000000   \n",
       "mean       38.884910    0.905066    0.945342    0.812434    0.871789   \n",
       "std        31.833122    0.033317    0.009867    0.082486    0.051073   \n",
       "min         3.099282    0.830300    0.901385    0.618836    0.746868   \n",
       "25%        16.758391    0.881925    0.942837    0.753831    0.836681   \n",
       "50%        30.212448    0.907550    0.947539    0.822891    0.879112   \n",
       "75%        54.932315    0.935825    0.952488    0.888509    0.917584   \n",
       "max       151.518844    0.952500    0.958475    0.929668    0.941373   \n",
       "\n",
       "          auc_roc  \n",
       "count  216.000000  \n",
       "mean     0.958893  \n",
       "std      0.010644  \n",
       "min      0.932463  \n",
       "25%      0.953313  \n",
       "50%      0.962198  \n",
       "75%      0.967062  \n",
       "max      0.972167  "
      ]
     },
     "execution_count": 10,
     "metadata": {},
     "output_type": "execute_result"
    }
   ],
   "source": [
    "results_df[[\"training_time\", \"accuracy\", \"precision\", \"recall\", \"f1_score\", \"auc_roc\"]].describe()"
   ]
  },
  {
   "cell_type": "code",
   "execution_count": 11,
   "id": "3afb8b90",
   "metadata": {},
   "outputs": [],
   "source": [
    "spark.stop()"
   ]
  }
 ],
 "metadata": {
  "kernelspec": {
   "display_name": "Python 3 (ipykernel)",
   "language": "python",
   "name": "python3"
  },
  "language_info": {
   "codemirror_mode": {
    "name": "ipython",
    "version": 3
   },
   "file_extension": ".py",
   "mimetype": "text/x-python",
   "name": "python",
   "nbconvert_exporter": "python",
   "pygments_lexer": "ipython3",
   "version": "3.12.10"
  }
 },
 "nbformat": 4,
 "nbformat_minor": 5
}
