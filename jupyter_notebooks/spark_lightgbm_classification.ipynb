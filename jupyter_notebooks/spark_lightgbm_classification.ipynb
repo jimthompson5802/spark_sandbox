{
 "cells": [
  {
   "cell_type": "code",
   "execution_count": 1,
   "id": "4006e488",
   "metadata": {},
   "outputs": [],
   "source": [
    "import pandas as pd\n",
    "import os\n",
    "import itertools\n",
    "from pyspark.sql import SparkSession\n",
    "import time\n",
    "from lightgbm import LGBMClassifier\n",
    "import lightgbm as lgb\n",
    "from sklearn.metrics import accuracy_score, precision_score, recall_score, f1_score, roc_auc_score, classification_report\n",
    "import uuid\n",
    "\n"
   ]
  },
  {
   "cell_type": "code",
   "execution_count": 2,
   "id": "cf953eaa",
   "metadata": {},
   "outputs": [],
   "source": [
    "DATA_DIR = \"/home/jovyan/data\"\n",
    "RESULTS_DIR = \"/home/jovyan/results/classification\""
   ]
  },
  {
   "cell_type": "code",
   "execution_count": 3,
   "id": "1710215c",
   "metadata": {},
   "outputs": [],
   "source": [
    "# clean up the results directory\n",
    "if os.path.exists(RESULTS_DIR):\n",
    "    for item in os.listdir(RESULTS_DIR):\n",
    "        item_path = os.path.join(RESULTS_DIR, item)\n",
    "        if os.path.isfile(item_path):\n",
    "            os.remove(item_path)\n",
    "        elif os.path.isdir(item_path):\n",
    "            import shutil\n",
    "            shutil.rmtree(item_path)\n"
   ]
  },
  {
   "cell_type": "code",
   "execution_count": 4,
   "id": "bdd8502a",
   "metadata": {},
   "outputs": [
    {
     "name": "stdout",
     "output_type": "stream",
     "text": [
      "Spark version: 4.0.0-preview2\n",
      "Spark UI available at: http://23293b77f3bb:4040\n"
     ]
    }
   ],
   "source": [
    "# .config((\"spark.driver.maxResultSize\", \"4g\")) \\\n",
    "# Create a Spark session\n",
    "spark = SparkSession.builder \\\n",
    "    .appName(\"SparkLightgbmClassification\") \\\n",
    "    .master(os.environ.get(\"SPARK_MASTER\", \"spark://spark-master:7077\")) \\\n",
    "    .config(\"spark.executor.memory\", \"4g\") \\\n",
    "    .config(\"spark.driver.maxResultSize\", \"1g\") \\\n",
    "    .config(\"spark.python.worker.faulthandler.enabled\", \"true\") \\\n",
    "    .config(\"spark.sql.execution.pyspark.udf.faulthandler.enabled\", \"true\") \\\n",
    "    .getOrCreate()\n",
    "\n",
    "# get spark context\n",
    "sc = spark.sparkContext\n",
    "\n",
    "print(f\"Spark version: {spark.version}\")\n",
    "print(f\"Spark UI available at: {spark.sparkContext.uiWebUrl}\")"
   ]
  },
  {
   "cell_type": "code",
   "execution_count": 5,
   "id": "b5a521bc",
   "metadata": {},
   "outputs": [
    {
     "data": {
      "text/plain": [
       "[1, 2, 3, 4]"
      ]
     },
     "execution_count": 5,
     "metadata": {},
     "output_type": "execute_result"
    }
   ],
   "source": [
    "# get unique fold ids from the spark DataFrame\n",
    "fold_ids = [1, 2, 3, 4]\n",
    "\n",
    "fold_ids"
   ]
  },
  {
   "cell_type": "code",
   "execution_count": 6,
   "id": "857d521f",
   "metadata": {},
   "outputs": [],
   "source": [
    "def train_lightgbm_model(params=None):\n",
    "    \"\"\"\n",
    "    Train a LightGBM classification model with the specified parameters.\n",
    "    \n",
    "    Parameters:\n",
    "    -----------\n",
    "    params : dict, optional\n",
    "        Parameters for LGBMClassifier. If None, default parameters will be used.\n",
    "        \n",
    "    Returns:\n",
    "    --------\n",
    "    str\n",
    "        File path where results are stored\n",
    "    \"\"\"\n",
    "    \n",
    "    print(f\"Training LightGBM classification model...{params}\")\n",
    "    # Default parameters if none provided\n",
    "    if params is None:\n",
    "        raise ValueError(\"No parameters provided for LightGBM model.\")\n",
    "    \n",
    "    fold_id = params.pop(\"fold_id\")\n",
    "\n",
    "    test_df = pd.read_parquet(\n",
    "        os.path.join(DATA_DIR, f\"ts_fold_{fold_id}_test.parquet\"),\n",
    "    )\n",
    "    train_df = pd.read_parquet(\n",
    "        os.path.join(DATA_DIR, f\"ts_fold_{fold_id}_train.parquet\"),\n",
    "    )\n",
    "\n",
    "    train_x = train_df.drop(columns=[\"target\", \"date\"])\n",
    "    train_y = train_df[\"target\"]\n",
    "    test_x = test_df.drop(columns=[\"target\", \"date\"])\n",
    "    test_y = test_df[\"target\"]\n",
    "\n",
    "    # Initialize the classification model\n",
    "    model = LGBMClassifier(**params)\n",
    "    \n",
    "    # Train the model and measure time\n",
    "    start_time = time.perf_counter()\n",
    "    model.fit(\n",
    "        train_x, train_y,\n",
    "        eval_set=[(test_x, test_y)],\n",
    "        eval_metric='logloss',\n",
    "        callbacks=[\n",
    "            lgb.early_stopping(stopping_rounds=2000),\n",
    "            lgb.log_evaluation(period=100),\n",
    "        ]\n",
    "    )\n",
    "    end_time = time.perf_counter()\n",
    "    training_time = end_time - start_time\n",
    "    \n",
    "    # Make predictions\n",
    "    y_pred_proba = model.predict_proba(test_x)[:, 1]  # Probability of positive class\n",
    "    y_pred = model.predict(test_x)  # Class predictions\n",
    "    \n",
    "    # Calculate classification metrics\n",
    "    accuracy = accuracy_score(test_y, y_pred)\n",
    "    precision = precision_score(test_y, y_pred)\n",
    "    recall = recall_score(test_y, y_pred)\n",
    "    f1 = f1_score(test_y, y_pred)\n",
    "    auc = roc_auc_score(test_y, y_pred_proba)\n",
    "\n",
    "    # Store detailed classification report as string\n",
    "    class_report = classification_report(test_y, y_pred)\n",
    "    print(f\"\\nClassification Report for fold {fold_id}:\")\n",
    "    print(class_report)\n",
    "\n",
    "    results = {\n",
    "        \"fold_id\": fold_id,\n",
    "        'accuracy': accuracy,\n",
    "        'precision': precision,\n",
    "        'recall': recall,\n",
    "        'f1_score': f1,\n",
    "        'auc_roc': auc,\n",
    "        'training_time': training_time,\n",
    "    }\n",
    "    results.update(params)\n",
    "\n",
    "    # generate uuid string for the results file name\n",
    "    fp_id = str(uuid.uuid4())\n",
    "    fp_name = os.path.join(RESULTS_DIR, f\"results_fold_{fold_id}_{fp_id}.parquet\")\n",
    "\n",
    "    results_df = pd.DataFrame([results])\n",
    "    results_df.to_parquet(\n",
    "        fp_name,\n",
    "        index=False,\n",
    "    )\n",
    "\n",
    "    return fp_name"
   ]
  },
  {
   "cell_type": "code",
   "execution_count": 7,
   "id": "e5f0fcb0",
   "metadata": {},
   "outputs": [
    {
     "name": "stdout",
     "output_type": "stream",
     "text": [
      "Total number of parameter combinations: 216\n",
      "\n",
      "First 3 parameter combinations:\n",
      "Combination 1:\n",
      "{'n_jobs': 2, 'fold_id': 1, 'lambda_l1': 0.1, 'max_depth': 12, 'colsample_bytree': 0.1, 'alpha': 0.1, 'num_leaves': 2048, 'learning_rate': 0.05, 'lambda_l2': 0.01, 'max_bin': 255, 'bagging_fraction': 1, 'deterministic': False, 'objective': 'huber', 'metric': 'huber', 'n_estimators': 10000, 'random_state': 42, 'importance_type': 'gain'}\n",
      "Combination 2:\n",
      "{'n_jobs': 2, 'fold_id': 1, 'lambda_l1': 0.1, 'max_depth': 12, 'colsample_bytree': 0.1, 'alpha': 0.1, 'num_leaves': 2048, 'learning_rate': 0.05, 'lambda_l2': 0.1, 'max_bin': 255, 'bagging_fraction': 1, 'deterministic': False, 'objective': 'huber', 'metric': 'huber', 'n_estimators': 10000, 'random_state': 42, 'importance_type': 'gain'}\n",
      "Combination 3:\n",
      "{'n_jobs': 2, 'fold_id': 1, 'lambda_l1': 0.1, 'max_depth': 12, 'colsample_bytree': 0.2, 'alpha': 0.1, 'num_leaves': 2048, 'learning_rate': 0.05, 'lambda_l2': 0.01, 'max_bin': 255, 'bagging_fraction': 1, 'deterministic': False, 'objective': 'huber', 'metric': 'huber', 'n_estimators': 10000, 'random_state': 42, 'importance_type': 'gain'}\n"
     ]
    }
   ],
   "source": [
    "\n",
    "# Define the hyperparameter search space\n",
    "# param_grid = {\n",
    "#     \"n_jobs\": [2],\n",
    "#     'boosting_type': ['gbdt'],\n",
    "#     'learning_rate': [0.01, 0.05, 0.1],\n",
    "#     'max_depth': [-1, 5, 9],  # -1 means no limit\n",
    "#     'n_estimators': [1000, 2000, 4000],\n",
    "#     'num_leaves': [31, 63, 127],\n",
    "#     'min_child_samples': [5, 20, 50],\n",
    "#     'subsample': [0.8, 1.0],\n",
    "#     'colsample_bytree': [0.8, 1.0],\n",
    "#     \"fold_id\": fold_ids,\n",
    "# }\n",
    "\n",
    "param_grid = {\n",
    "    \"n_jobs\": [2],\n",
    "    \"fold_id\": fold_ids,\n",
    "    \"lambda_l1\": [0.1, 10, 50],\n",
    "    \"max_depth\": [12, 14, 16],\n",
    "    \"colsample_bytree\": [0.1, 0.2, 0.5],\n",
    "    \"alpha\": [0.1],\n",
    "    \"num_leaves\": [2048,],\n",
    "    \"learning_rate\": [0.05],\n",
    "    \"lambda_l2\": [0.01, 0.1],\n",
    "    \"max_bin\": [255,],\n",
    "    \"bagging_fraction\": [1],\n",
    "    \"deterministic\": [False],\n",
    "    \"objective\": [\"huber\"],\n",
    "    \"metric\": [\"huber\"],\n",
    "    \"n_estimators\": [10000],\n",
    "    \"random_state\": [42],\n",
    "    \"importance_type\": [\"gain\"],\n",
    "}\n",
    "\n",
    "\n",
    "# Generate all combinations of parameters\n",
    "param_keys = list(param_grid.keys())\n",
    "param_values = list(param_grid.values())\n",
    "param_combinations = list(itertools.product(*param_values))\n",
    "\n",
    "# Create a list of dictionaries, each representing a specific combination\n",
    "param_dicts = []\n",
    "for combo in param_combinations:\n",
    "    param_dict = dict(zip(param_keys, combo))\n",
    "    param_dicts.append(param_dict)\n",
    "\n",
    "# Display the number of combinations and the first few combinations\n",
    "print(f\"Total number of parameter combinations: {len(param_dicts)}\")\n",
    "print(\"\\nFirst 3 parameter combinations:\")\n",
    "for i in range(min(3, len(param_dicts))):\n",
    "    print(f\"Combination {i+1}:\")\n",
    "    print(param_dicts[i])\n"
   ]
  },
  {
   "cell_type": "code",
   "execution_count": 8,
   "id": "c624c72e",
   "metadata": {},
   "outputs": [
    {
     "name": "stdout",
     "output_type": "stream",
     "text": [
      ">>>>length of rdd_result: 216\n"
     ]
    }
   ],
   "source": [
    "process_these = param_dicts\n",
    "\n",
    "rdd = sc.parallelize(process_these, numSlices=len(process_these))\n",
    "\n",
    "rdd_result = rdd.map(lambda x: train_lightgbm_model(params=x)).collect()\n",
    "\n",
    "print(f\">>>>length of rdd_result: {len(rdd_result)}\")\n"
   ]
  },
  {
   "cell_type": "code",
   "execution_count": 9,
   "id": "248fd044",
   "metadata": {},
   "outputs": [
    {
     "data": {
      "text/plain": [
       "<bound method NDFrame.head of      fold_id  accuracy  precision    recall  f1_score   auc_roc  \\\n",
       "0          1   0.78795   0.971687  0.491118  0.652463  0.953238   \n",
       "1          1   0.78860   0.969947  0.493708  0.654349  0.952734   \n",
       "2          1   0.79205   0.969099  0.502961  0.662227  0.952880   \n",
       "3          1   0.78460   0.970982  0.482976  0.645082  0.952138   \n",
       "4          1   0.88250   0.963446  0.738095  0.835848  0.963213   \n",
       "..       ...       ...        ...       ...       ...       ...   \n",
       "211        4   0.74365   0.971033  0.374596  0.540633  0.954930   \n",
       "212        4   0.65960   0.973404  0.159051  0.273426  0.951039   \n",
       "213        4   0.65855   0.975175  0.156072  0.269078  0.950759   \n",
       "214        4   0.73620   0.973093  0.354731  0.519927  0.951506   \n",
       "215        4   0.73720   0.972635  0.357462  0.522789  0.951440   \n",
       "\n",
       "     training_time  n_jobs  lambda_l1  max_depth  ...  learning_rate  \\\n",
       "0        19.731570       2        0.1         12  ...           0.05   \n",
       "1        18.715714       2        0.1         12  ...           0.05   \n",
       "2        25.635977       2        0.1         12  ...           0.05   \n",
       "3        25.321691       2        0.1         12  ...           0.05   \n",
       "4        35.222932       2        0.1         12  ...           0.05   \n",
       "..             ...     ...        ...        ...  ...            ...   \n",
       "211      15.860495       2       50.0         16  ...           0.05   \n",
       "212      11.602595       2       50.0         16  ...           0.05   \n",
       "213      12.672357       2       50.0         16  ...           0.05   \n",
       "214      19.243933       2       50.0         16  ...           0.05   \n",
       "215      12.417721       2       50.0         16  ...           0.05   \n",
       "\n",
       "     lambda_l2  max_bin  bagging_fraction  deterministic  objective  metric  \\\n",
       "0         0.01      255                 1          False      huber   huber   \n",
       "1         0.10      255                 1          False      huber   huber   \n",
       "2         0.01      255                 1          False      huber   huber   \n",
       "3         0.10      255                 1          False      huber   huber   \n",
       "4         0.01      255                 1          False      huber   huber   \n",
       "..         ...      ...               ...            ...        ...     ...   \n",
       "211       0.10      255                 1          False      huber   huber   \n",
       "212       0.01      255                 1          False      huber   huber   \n",
       "213       0.10      255                 1          False      huber   huber   \n",
       "214       0.01      255                 1          False      huber   huber   \n",
       "215       0.10      255                 1          False      huber   huber   \n",
       "\n",
       "     n_estimators random_state importance_type  \n",
       "0           10000           42            gain  \n",
       "1           10000           42            gain  \n",
       "2           10000           42            gain  \n",
       "3           10000           42            gain  \n",
       "4           10000           42            gain  \n",
       "..            ...          ...             ...  \n",
       "211         10000           42            gain  \n",
       "212         10000           42            gain  \n",
       "213         10000           42            gain  \n",
       "214         10000           42            gain  \n",
       "215         10000           42            gain  \n",
       "\n",
       "[216 rows x 23 columns]>"
      ]
     },
     "execution_count": 9,
     "metadata": {},
     "output_type": "execute_result"
    }
   ],
   "source": [
    "df_list = [pd.read_parquet(fp) for fp in rdd_result]\n",
    "results_df = pd.concat(df_list, ignore_index=True)\n",
    "\n",
    "results_df.head"
   ]
  },
  {
   "cell_type": "code",
   "execution_count": 10,
   "id": "28c97346",
   "metadata": {},
   "outputs": [
    {
     "data": {
      "application/vnd.microsoft.datawrangler.viewer.v0+json": {
       "columns": [
        {
         "name": "index",
         "rawType": "object",
         "type": "string"
        },
        {
         "name": "training_time",
         "rawType": "float64",
         "type": "float"
        },
        {
         "name": "accuracy",
         "rawType": "float64",
         "type": "float"
        },
        {
         "name": "precision",
         "rawType": "float64",
         "type": "float"
        },
        {
         "name": "recall",
         "rawType": "float64",
         "type": "float"
        },
        {
         "name": "f1_score",
         "rawType": "float64",
         "type": "float"
        },
        {
         "name": "auc_roc",
         "rawType": "float64",
         "type": "float"
        }
       ],
       "conversionMethod": "pd.DataFrame",
       "ref": "b78aa681-8c2e-4fe5-852e-a9d44f331beb",
       "rows": [
        [
         "count",
         "216.0",
         "216.0",
         "216.0",
         "216.0",
         "216.0",
         "216.0"
        ],
        [
         "mean",
         "31.901207042597257",
         "0.772081712962963",
         "0.9696727122728348",
         "0.4518677161098014",
         "0.5892580201150289",
         "0.9573238043624521"
        ],
        [
         "std",
         "30.12913585775809",
         "0.07939677312481602",
         "0.004020829662642495",
         "0.20374555479414427",
         "0.1904756352816035",
         "0.010012575241506698"
        ],
        [
         "min",
         "3.407280002000334",
         "0.6464",
         "0.9557655436866612",
         "0.13175425610658772",
         "0.2319721980886186",
         "0.9270070402711408"
        ],
        [
         "25%",
         "10.083319212749984",
         "0.7141875",
         "0.9683991977675399",
         "0.29976440737847115",
         "0.4584207390201817",
         "0.9513892574375993"
        ],
        [
         "50%",
         "19.664177966999887",
         "0.772575",
         "0.9704205773848753",
         "0.44987093962533065",
         "0.6151317472442582",
         "0.9596603825733306"
        ],
        [
         "75%",
         "42.51463366450048",
         "0.82785",
         "0.9725951889627632",
         "0.595819732804465",
         "0.7380174553269356",
         "0.9654981800604168"
        ],
        [
         "max",
         "143.39403081599994",
         "0.93405",
         "0.9762931034482759",
         "0.873249907074712",
         "0.9138640370926664",
         "0.9700807213754772"
        ]
       ],
       "shape": {
        "columns": 6,
        "rows": 8
       }
      },
      "text/html": [
       "<div>\n",
       "<style scoped>\n",
       "    .dataframe tbody tr th:only-of-type {\n",
       "        vertical-align: middle;\n",
       "    }\n",
       "\n",
       "    .dataframe tbody tr th {\n",
       "        vertical-align: top;\n",
       "    }\n",
       "\n",
       "    .dataframe thead th {\n",
       "        text-align: right;\n",
       "    }\n",
       "</style>\n",
       "<table border=\"1\" class=\"dataframe\">\n",
       "  <thead>\n",
       "    <tr style=\"text-align: right;\">\n",
       "      <th></th>\n",
       "      <th>training_time</th>\n",
       "      <th>accuracy</th>\n",
       "      <th>precision</th>\n",
       "      <th>recall</th>\n",
       "      <th>f1_score</th>\n",
       "      <th>auc_roc</th>\n",
       "    </tr>\n",
       "  </thead>\n",
       "  <tbody>\n",
       "    <tr>\n",
       "      <th>count</th>\n",
       "      <td>216.000000</td>\n",
       "      <td>216.000000</td>\n",
       "      <td>216.000000</td>\n",
       "      <td>216.000000</td>\n",
       "      <td>216.000000</td>\n",
       "      <td>216.000000</td>\n",
       "    </tr>\n",
       "    <tr>\n",
       "      <th>mean</th>\n",
       "      <td>31.901207</td>\n",
       "      <td>0.772082</td>\n",
       "      <td>0.969673</td>\n",
       "      <td>0.451868</td>\n",
       "      <td>0.589258</td>\n",
       "      <td>0.957324</td>\n",
       "    </tr>\n",
       "    <tr>\n",
       "      <th>std</th>\n",
       "      <td>30.129136</td>\n",
       "      <td>0.079397</td>\n",
       "      <td>0.004021</td>\n",
       "      <td>0.203746</td>\n",
       "      <td>0.190476</td>\n",
       "      <td>0.010013</td>\n",
       "    </tr>\n",
       "    <tr>\n",
       "      <th>min</th>\n",
       "      <td>3.407280</td>\n",
       "      <td>0.646400</td>\n",
       "      <td>0.955766</td>\n",
       "      <td>0.131754</td>\n",
       "      <td>0.231972</td>\n",
       "      <td>0.927007</td>\n",
       "    </tr>\n",
       "    <tr>\n",
       "      <th>25%</th>\n",
       "      <td>10.083319</td>\n",
       "      <td>0.714187</td>\n",
       "      <td>0.968399</td>\n",
       "      <td>0.299764</td>\n",
       "      <td>0.458421</td>\n",
       "      <td>0.951389</td>\n",
       "    </tr>\n",
       "    <tr>\n",
       "      <th>50%</th>\n",
       "      <td>19.664178</td>\n",
       "      <td>0.772575</td>\n",
       "      <td>0.970421</td>\n",
       "      <td>0.449871</td>\n",
       "      <td>0.615132</td>\n",
       "      <td>0.959660</td>\n",
       "    </tr>\n",
       "    <tr>\n",
       "      <th>75%</th>\n",
       "      <td>42.514634</td>\n",
       "      <td>0.827850</td>\n",
       "      <td>0.972595</td>\n",
       "      <td>0.595820</td>\n",
       "      <td>0.738017</td>\n",
       "      <td>0.965498</td>\n",
       "    </tr>\n",
       "    <tr>\n",
       "      <th>max</th>\n",
       "      <td>143.394031</td>\n",
       "      <td>0.934050</td>\n",
       "      <td>0.976293</td>\n",
       "      <td>0.873250</td>\n",
       "      <td>0.913864</td>\n",
       "      <td>0.970081</td>\n",
       "    </tr>\n",
       "  </tbody>\n",
       "</table>\n",
       "</div>"
      ],
      "text/plain": [
       "       training_time    accuracy   precision      recall    f1_score  \\\n",
       "count     216.000000  216.000000  216.000000  216.000000  216.000000   \n",
       "mean       31.901207    0.772082    0.969673    0.451868    0.589258   \n",
       "std        30.129136    0.079397    0.004021    0.203746    0.190476   \n",
       "min         3.407280    0.646400    0.955766    0.131754    0.231972   \n",
       "25%        10.083319    0.714187    0.968399    0.299764    0.458421   \n",
       "50%        19.664178    0.772575    0.970421    0.449871    0.615132   \n",
       "75%        42.514634    0.827850    0.972595    0.595820    0.738017   \n",
       "max       143.394031    0.934050    0.976293    0.873250    0.913864   \n",
       "\n",
       "          auc_roc  \n",
       "count  216.000000  \n",
       "mean     0.957324  \n",
       "std      0.010013  \n",
       "min      0.927007  \n",
       "25%      0.951389  \n",
       "50%      0.959660  \n",
       "75%      0.965498  \n",
       "max      0.970081  "
      ]
     },
     "execution_count": 10,
     "metadata": {},
     "output_type": "execute_result"
    }
   ],
   "source": [
    "results_df[[\"training_time\", \"accuracy\", \"precision\", \"recall\", \"f1_score\", \"auc_roc\"]].describe()"
   ]
  },
  {
   "cell_type": "code",
   "execution_count": 11,
   "id": "3afb8b90",
   "metadata": {},
   "outputs": [],
   "source": [
    "spark.stop()"
   ]
  }
 ],
 "metadata": {
  "kernelspec": {
   "display_name": "Python 3 (ipykernel)",
   "language": "python",
   "name": "python3"
  },
  "language_info": {
   "codemirror_mode": {
    "name": "ipython",
    "version": 3
   },
   "file_extension": ".py",
   "mimetype": "text/x-python",
   "name": "python",
   "nbconvert_exporter": "python",
   "pygments_lexer": "ipython3",
   "version": "3.12.10"
  }
 },
 "nbformat": 4,
 "nbformat_minor": 5
}
