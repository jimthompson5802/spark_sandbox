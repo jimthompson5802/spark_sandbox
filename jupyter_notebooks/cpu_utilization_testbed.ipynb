{
 "cells": [
  {
   "cell_type": "code",
   "execution_count": 1,
   "id": "0a83194b",
   "metadata": {},
   "outputs": [
    {
     "name": "stdout",
     "output_type": "stream",
     "text": [
      "Average CPU utilization: 100.00%\n"
     ]
    }
   ],
   "source": [
    "import time\n",
    "import os\n",
    "\n",
    "\n",
    "def read_proc_self_stat():\n",
    "    \"\"\"Read utime and stime from /proc/self/stat.\"\"\"\n",
    "    with open(\"/proc/self/stat\", \"r\") as f:\n",
    "        fields = f.read().split()\n",
    "        utime = int(fields[13])  # 14th field: user mode jiffies\n",
    "        stime = int(fields[14])  # 15th field: kernel mode jiffies\n",
    "    return utime, stime\n",
    "\n",
    "\n",
    "def measure_cpu_utilization(code_block, *args, **kwargs):\n",
    "    \"\"\"\n",
    "    Measure average CPU utilization for a code block (function).\n",
    "    code_block: function to execute\n",
    "    args, kwargs: arguments to the function\n",
    "    Returns: CPU utilization percentage\n",
    "    \"\"\"\n",
    "    clk_tck = os.sysconf(os.sysconf_names[\"SC_CLK_TCK\"])\n",
    "\n",
    "    # Read initial CPU times and wall time\n",
    "    utime_start, stime_start = read_proc_self_stat()\n",
    "    wall_start = time.monotonic()\n",
    "\n",
    "    # Run the code section\n",
    "    code_block(*args, **kwargs)\n",
    "\n",
    "    # Read final CPU times and wall time\n",
    "    utime_end, stime_end = read_proc_self_stat()\n",
    "    wall_end = time.monotonic()\n",
    "\n",
    "    # Calculate CPU time used (in seconds)\n",
    "    cpu_time = (utime_end - utime_start + stime_end - stime_start) / clk_tck\n",
    "\n",
    "    # Calculate wall-clock time (in seconds)\n",
    "    wall_time = wall_end - wall_start\n",
    "\n",
    "    # Compute CPU utilization as a percentage\n",
    "    utilization = (cpu_time / wall_time) * 100 if wall_time > 0 else 0.0\n",
    "    return utilization\n",
    "\n",
    "\n",
    "# Example usage:\n",
    "def busy_work():\n",
    "    # Example: CPU-intensive loop\n",
    "    for _ in range(10**8):\n",
    "        pass\n",
    "\n",
    "\n",
    "util = measure_cpu_utilization(busy_work)\n",
    "print(f\"Average CPU utilization: {util:.2f}%\")\n"
   ]
  },
  {
   "cell_type": "code",
   "execution_count": 2,
   "id": "f6fce195",
   "metadata": {},
   "outputs": [
    {
     "name": "stdout",
     "output_type": "stream",
     "text": [
      "/usr/local/spark/python/lib/py4j-0.10.9.7-src.zip\n",
      "/usr/local/spark/python\n",
      "/home/jovyan\n",
      "/opt/conda/lib/python312.zip\n",
      "/opt/conda/lib/python3.12\n",
      "/opt/conda/lib/python3.12/lib-dynload\n",
      "\n",
      "/opt/conda/lib/python3.12/site-packages\n",
      "/home/jovyan/jupyter_notebooks\n"
     ]
    }
   ],
   "source": [
    "import sys\n",
    "sys.path.append(\"/home/jovyan/jupyter_notebooks\")\n",
    "\n",
    "for p in sys.path:\n",
    "    print(p)\n",
    "\n",
    "from instrument_code import SystemMonitor"
   ]
  },
  {
   "cell_type": "code",
   "execution_count": 5,
   "id": "ae106941",
   "metadata": {},
   "outputs": [
    {
     "name": "stdout",
     "output_type": "stream",
     "text": [
      "Current RSS memory usage: 69.92 MB\n",
      "CPU snapshot: (436, 4, 10336.61722025)\n",
      "CPU snapshot after work: (596, 4, 10338.222676334)\n",
      "\n",
      "CPU utilization:99.66%\n"
     ]
    }
   ],
   "source": [
    "# Create monitor instance\n",
    "monitor = SystemMonitor()\n",
    "\n",
    "# Get current memory usage\n",
    "print(f\"Current RSS memory usage: {monitor.get_current_rss():.2f} MB\")\n",
    "\n",
    "# Take CPU snapshot\n",
    "before_snapshot = monitor.snapshot_cpu()\n",
    "print(f\"CPU snapshot: {before_snapshot}\")\n",
    "\n",
    "# Simulate some work\n",
    "for _ in range(10**8):\n",
    "    pass\n",
    "\n",
    "# Take another snapshot\n",
    "after_snapshot = monitor.snapshot_cpu()\n",
    "print(f\"CPU snapshot after work: {after_snapshot}\")\n",
    "\n",
    "print(\n",
    "    f\"\\nCPU utilization:{monitor.compute_cpu_usage(before_snapshot, after_snapshot):.2f}%\"\n",
    ")\n"
   ]
  }
 ],
 "metadata": {
  "kernelspec": {
   "display_name": "Python 3 (ipykernel)",
   "language": "python",
   "name": "python3"
  }
 },
 "nbformat": 4,
 "nbformat_minor": 5
}
