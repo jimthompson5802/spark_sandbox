{
 "cells": [
  {
   "cell_type": "code",
   "execution_count": 4,
   "id": "4006e488",
   "metadata": {},
   "outputs": [],
   "source": [
    "import pandas as pd\n",
    "import os\n",
    "import itertools\n",
    "import lightgbm as lgb\n"
   ]
  },
  {
   "cell_type": "code",
   "execution_count": 2,
   "id": "cf953eaa",
   "metadata": {},
   "outputs": [],
   "source": [
    "DATA_DIR = \"/home/jovyan\""
   ]
  },
  {
   "cell_type": "code",
   "execution_count": 3,
   "id": "d849988b",
   "metadata": {},
   "outputs": [
    {
     "name": "stdout",
     "output_type": "stream",
     "text": [
      "   feature_1  feature_2  feature_3  feature_4  feature_5  feature_6  \\\n",
      "0  -0.186761   0.478045  -1.154557   0.212808   0.268562   1.541141   \n",
      "1  -0.635283   0.251530  -0.548343  -0.248227  -1.498527  -0.798143   \n",
      "2   1.491810   1.130562   0.857294  -0.094590  -0.629634   1.161238   \n",
      "3   0.034152   0.666313  -1.148794  -1.085825   0.679373  -0.081523   \n",
      "4  -0.939496   1.234623  -0.747609  -0.331974   0.849726   0.653575   \n",
      "\n",
      "   feature_7  feature_8  feature_9  feature_10  ...  feature_13  feature_14  \\\n",
      "0   2.217046   0.447667   0.040777   -1.702876  ...    0.307114    0.117864   \n",
      "1   0.265727   0.631096  -0.732237   -1.339556  ...    0.991846   -0.769236   \n",
      "2   0.376251  -0.286641  -0.587925    1.378734  ...    0.800813    1.370580   \n",
      "3  -1.778588   1.235782   1.192508    0.462591  ...    0.436739   -1.087246   \n",
      "4   0.200738  -0.494521  -2.249391   -1.093166  ...    0.251269   -0.634671   \n",
      "\n",
      "   feature_15  feature_16  feature_17  feature_18  feature_19  feature_20  \\\n",
      "0   -1.715423    0.191800   -0.748383    2.172125   -0.907360    0.794729   \n",
      "1    0.101182   -2.339872    1.719021   -0.263610    2.232517   -0.360159   \n",
      "2   -1.798189    0.020628    0.978586   -0.049630    0.864799    0.072858   \n",
      "3    0.319652   -0.675708   -1.071054   -0.487229    0.347676   -0.504180   \n",
      "4    0.946005    0.304777    0.904232   -0.043453    2.062316    0.538924   \n",
      "\n",
      "       target  fold_id  \n",
      "0    0.607549        0  \n",
      "1  232.460293        3  \n",
      "2 -128.087826        2  \n",
      "3  133.812456        0  \n",
      "4  -22.888581        3  \n",
      "\n",
      "[5 rows x 22 columns]\n"
     ]
    }
   ],
   "source": [
    "\n",
    "\n",
    "# Read the CSV file from the relative path\n",
    "df = pd.read_csv(os.path.join(DATA_DIR,\"data/synthetic_regression_data.csv\"))\n",
    "\n",
    "# Display the first few rows to verify the data was loaded correctly\n",
    "print(df.head())"
   ]
  },
  {
   "cell_type": "code",
   "execution_count": 6,
   "id": "7ce87a8d",
   "metadata": {},
   "outputs": [
    {
     "name": "stdout",
     "output_type": "stream",
     "text": [
      "Total number of parameter combinations: 3888\n",
      "\n",
      "First 3 parameter combinations:\n",
      "Combination 1:\n",
      "{'fold_id': 0, 'learning_rate': 0.01, 'max_depth': -1, 'n_estimators': 100, 'num_leaves': 31, 'min_child_samples': 5, 'subsample': 0.8, 'colsample_bytree': 0.8}\n",
      "Combination 2:\n",
      "{'fold_id': 0, 'learning_rate': 0.01, 'max_depth': -1, 'n_estimators': 100, 'num_leaves': 31, 'min_child_samples': 5, 'subsample': 0.8, 'colsample_bytree': 1.0}\n",
      "Combination 3:\n",
      "{'fold_id': 0, 'learning_rate': 0.01, 'max_depth': -1, 'n_estimators': 100, 'num_leaves': 31, 'min_child_samples': 5, 'subsample': 1.0, 'colsample_bytree': 0.8}\n"
     ]
    }
   ],
   "source": [
    "\n",
    "# Define the hyperparameter search space\n",
    "param_grid = {\n",
    "    'fold_id': [0, 1, 2, 3],\n",
    "    'learning_rate': [0.01, 0.05, 0.1],\n",
    "    'max_depth': [-1, 5, 9],  # -1 means no limit\n",
    "    'n_estimators': [100, 200, 500],\n",
    "    'num_leaves': [31, 63, 127],\n",
    "    'min_child_samples': [5, 20, 50],\n",
    "    'subsample': [0.8, 1.0],\n",
    "    'colsample_bytree': [0.8, 1.0]\n",
    "}\n",
    "\n",
    "# Generate all combinations of parameters\n",
    "param_keys = list(param_grid.keys())\n",
    "param_values = list(param_grid.values())\n",
    "param_combinations = list(itertools.product(*param_values))\n",
    "\n",
    "# Create a list of dictionaries, each representing a specific combination\n",
    "param_dicts = []\n",
    "for combo in param_combinations:\n",
    "    param_dict = dict(zip(param_keys, combo))\n",
    "    param_dicts.append(param_dict)\n",
    "\n",
    "# Display the number of combinations and the first few combinations\n",
    "print(f\"Total number of parameter combinations: {len(param_dicts)}\")\n",
    "print(\"\\nFirst 3 parameter combinations:\")\n",
    "for i in range(min(3, len(param_dicts))):\n",
    "    print(f\"Combination {i+1}:\")\n",
    "    print(param_dicts[i])\n",
    "\n",
    "# Example of how you might use these combinations (commented out)\n",
    "# for params in param_dicts:\n",
    "#     model = lgb.LGBMClassifier(**params)\n",
    "#     model.fit(X_train, y_train)\n",
    "#     # Evaluate model"
   ]
  },
  {
   "cell_type": "code",
   "execution_count": null,
   "id": "c624c72e",
   "metadata": {},
   "outputs": [],
   "source": []
  }
 ],
 "metadata": {
  "kernelspec": {
   "display_name": "Python 3 (ipykernel)",
   "language": "python",
   "name": "python3"
  }
 },
 "nbformat": 4,
 "nbformat_minor": 5
}
