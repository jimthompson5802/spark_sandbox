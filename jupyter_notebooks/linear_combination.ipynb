{
 "cells": [
  {
   "cell_type": "code",
   "execution_count": 9,
   "id": "de073466",
   "metadata": {},
   "outputs": [
    {
     "name": "stdout",
     "output_type": "stream",
     "text": [
      "Spark version: 4.0.1\n",
      "Spark UI available at: http://d45005c77c21:4040\n"
     ]
    }
   ],
   "source": [
    "import os\n",
    "import pyspark\n",
    "from pyspark.sql import SparkSession\n",
    "\n",
    "# Create a Spark session\n",
    "spark = SparkSession.builder \\\n",
    "    .appName(\"SparkDataScienceSample\") \\\n",
    "    .master(os.environ.get(\"SPARK_MASTER\", \"spark://spark-master:7077\")) \\\n",
    "    .config(\"spark.executor.memory\", \"1g\") \\\n",
    "    .getOrCreate()\n",
    "\n",
    "print(f\"Spark version: {spark.version}\")\n",
    "print(f\"Spark UI available at: {spark.sparkContext.uiWebUrl}\")"
   ]
  },
  {
   "cell_type": "code",
   "execution_count": 10,
   "id": "dcd32e38",
   "metadata": {},
   "outputs": [],
   "source": [
    "from pyspark.sql.functions import col"
   ]
  },
  {
   "cell_type": "code",
   "execution_count": 11,
   "id": "4b447bb4",
   "metadata": {},
   "outputs": [
    {
     "name": "stdout",
     "output_type": "stream",
     "text": [
      "+---+----+----+\n",
      "| id|col2|col1|\n",
      "+---+----+----+\n",
      "|  1|  10|  20|\n",
      "|  2|  15|  25|\n",
      "|  3|   5|  30|\n",
      "+---+----+----+\n",
      "\n"
     ]
    }
   ],
   "source": [
    "# sample data frame\n",
    "data = [(1, 10, 20), (2, 15, 25), (3, 5, 30)]\n",
    "columns = [\"id\", \"col2\", \"col1\"]\n",
    "\n",
    "df = spark.createDataFrame(data, columns)\n",
    "\n",
    "df.show()"
   ]
  },
  {
   "cell_type": "code",
   "execution_count": 12,
   "id": "2ff0f6ab",
   "metadata": {},
   "outputs": [],
   "source": [
    "# define coefficients\n",
    "coeff = {\"col1\": 2, \"col2\": 3}"
   ]
  },
  {
   "cell_type": "code",
   "execution_count": 13,
   "id": "bfadeda1",
   "metadata": {},
   "outputs": [],
   "source": [
    "linear_combination_expr = sum(col(column) * coeff for column, coeff in coeff.items())"
   ]
  },
  {
   "cell_type": "code",
   "execution_count": 14,
   "id": "4e2c12ca",
   "metadata": {},
   "outputs": [
    {
     "name": "stdout",
     "output_type": "stream",
     "text": [
      "+---+----+----+-----+\n",
      "| id|col2|col1|score|\n",
      "+---+----+----+-----+\n",
      "|  1|  10|  20|   70|\n",
      "|  2|  15|  25|   95|\n",
      "|  3|   5|  30|   75|\n",
      "+---+----+----+-----+\n",
      "\n"
     ]
    }
   ],
   "source": [
    "df_new = df.withColumn(\"score\", linear_combination_expr)\n",
    "\n",
    "df_new.show()"
   ]
  },
  {
   "cell_type": "code",
   "execution_count": 15,
   "id": "0aa7602f",
   "metadata": {},
   "outputs": [],
   "source": [
    "spark.stop()"
   ]
  },
  {
   "cell_type": "code",
   "execution_count": null,
   "id": "86258049",
   "metadata": {},
   "outputs": [],
   "source": []
  }
 ],
 "metadata": {
  "kernelspec": {
   "display_name": "Python 3 (ipykernel)",
   "language": "python",
   "name": "python3"
  },
  "language_info": {
   "codemirror_mode": {
    "name": "ipython",
    "version": 3
   },
   "file_extension": ".py",
   "mimetype": "text/x-python",
   "name": "python",
   "nbconvert_exporter": "python",
   "pygments_lexer": "ipython3",
   "version": "3.13.9"
  }
 },
 "nbformat": 4,
 "nbformat_minor": 5
}
