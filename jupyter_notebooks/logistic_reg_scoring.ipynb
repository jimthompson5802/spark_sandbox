{
 "cells": [
  {
   "cell_type": "code",
   "execution_count": 1,
   "id": "ab3c3c3e",
   "metadata": {},
   "outputs": [],
   "source": [
    "import numpy as np\n"
   ]
  },
  {
   "cell_type": "code",
   "execution_count": 2,
   "id": "044aebbd",
   "metadata": {},
   "outputs": [
    {
     "name": "stdout",
     "output_type": "stream",
     "text": [
      "CPU times: user 3.61 s, sys: 442 ms, total: 4.06 s\n",
      "Wall time: 4.07 s\n"
     ]
    }
   ],
   "source": [
    "%%time \n",
    "ROWS = 10_000_000\n",
    "# create random matrix 1M rows by 100 cols\n",
    "input_data = np.random.rand(ROWS, 100)\n",
    "\n",
    "# create random matrix 1M rows by 100 cols\n",
    "coefficients = np.random.rand(ROWS, 100)\n"
   ]
  },
  {
   "cell_type": "code",
   "execution_count": 3,
   "id": "be2eada6",
   "metadata": {},
   "outputs": [
    {
     "name": "stdout",
     "output_type": "stream",
     "text": [
      "CPU times: user 611 ms, sys: 386 ms, total: 997 ms\n",
      "Wall time: 996 ms\n"
     ]
    },
    {
     "data": {
      "text/plain": [
       "(10000000,)"
      ]
     },
     "execution_count": 3,
     "metadata": {},
     "output_type": "execute_result"
    }
   ],
   "source": [
    "%%time\n",
    "ans1 = input_data * coefficients\n",
    "ans1 = ans1.sum(axis=1)\n",
    "ans1 = 1/(1 + np.exp(-ans1))\n",
    "ans1.shape\n"
   ]
  },
  {
   "cell_type": "code",
   "execution_count": 4,
   "id": "13774e5d",
   "metadata": {},
   "outputs": [
    {
     "name": "stdout",
     "output_type": "stream",
     "text": [
      "CPU times: user 6.64 s, sys: 578 ms, total: 7.22 s\n",
      "Wall time: 7.24 s\n"
     ]
    },
    {
     "data": {
      "text/plain": [
       "(10000000,)"
      ]
     },
     "execution_count": 4,
     "metadata": {},
     "output_type": "execute_result"
    }
   ],
   "source": [
    "%%time\n",
    "# for each column in input_data, multiply by corresponding col in coefficients, then sum each row\n",
    "ans2 = [input_data[:,i] * coefficients[:,i] for i in range(input_data.shape[1])]\n",
    "ans2 = sum(ans2)\n",
    "ans2 = 1/(1 + np.exp(-ans2))\n",
    "ans2.shape"
   ]
  },
  {
   "cell_type": "code",
   "execution_count": 5,
   "id": "3a1bf632",
   "metadata": {},
   "outputs": [
    {
     "data": {
      "text/plain": [
       "np.float64(0.0)"
      ]
     },
     "execution_count": 5,
     "metadata": {},
     "output_type": "execute_result"
    }
   ],
   "source": [
    "np.max(np.abs(ans1 - ans2))"
   ]
  },
  {
   "cell_type": "code",
   "execution_count": 6,
   "id": "076d954e",
   "metadata": {},
   "outputs": [
    {
     "data": {
      "text/plain": [
       "True"
      ]
     },
     "execution_count": 6,
     "metadata": {},
     "output_type": "execute_result"
    }
   ],
   "source": [
    "np.allclose(ans1, ans2)"
   ]
  },
  {
   "cell_type": "markdown",
   "id": "ba626dea",
   "metadata": {},
   "source": []
  }
 ],
 "metadata": {
  "kernelspec": {
   "display_name": "venv",
   "language": "python",
   "name": "python3"
  },
  "language_info": {
   "codemirror_mode": {
    "name": "ipython",
    "version": 3
   },
   "file_extension": ".py",
   "mimetype": "text/x-python",
   "name": "python",
   "nbconvert_exporter": "python",
   "pygments_lexer": "ipython3",
   "version": "3.12.11"
  }
 },
 "nbformat": 4,
 "nbformat_minor": 5
}
