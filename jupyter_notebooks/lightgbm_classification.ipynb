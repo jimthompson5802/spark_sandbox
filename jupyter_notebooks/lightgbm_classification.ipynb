{
 "cells": [
  {
   "cell_type": "code",
   "execution_count": 9,
   "id": "93e25e6d",
   "metadata": {},
   "outputs": [],
   "source": [
    "import pandas as pd\n",
    "import os\n",
    "import itertools\n",
    "from pyspark.sql import SparkSession\n",
    "import time\n",
    "from lightgbm import LGBMClassifier\n",
    "from sklearn.metrics import accuracy_score, precision_score, recall_score, f1_score, roc_auc_score, classification_report\n",
    "import uuid\n"
   ]
  },
  {
   "cell_type": "code",
   "execution_count": 10,
   "id": "51fa9f2d",
   "metadata": {},
   "outputs": [],
   "source": [
    "DATA_DIR = \"/home/jovyan/data\"\n",
    "RESULTS_DIR = \"/home/jovyan/results/classification\""
   ]
  },
  {
   "cell_type": "code",
   "execution_count": 11,
   "id": "c312e855",
   "metadata": {},
   "outputs": [],
   "source": [
    "def train_lightgbm_model(params=None):\n",
    "    \"\"\"\n",
    "    Train a LightGBM classification model with the specified parameters.\n",
    "    \n",
    "    Parameters:\n",
    "    -----------\n",
    "    params : dict, optional\n",
    "        Parameters for LGBMClassifier. If None, default parameters will be used.\n",
    "        \n",
    "    Returns:\n",
    "    --------\n",
    "    str\n",
    "        File path where results are stored\n",
    "    \"\"\"\n",
    "    \n",
    "    print(f\"Training LightGBM classification model...{params}\")\n",
    "    # Default parameters if none provided\n",
    "    if params is None:\n",
    "        raise ValueError(\"No parameters provided for LightGBM model.\")\n",
    "    \n",
    "    fold_id = params.pop(\"fold_id\")\n",
    "\n",
    "    test_df = pd.read_parquet(\n",
    "        os.path.join(DATA_DIR, f\"ts_fold_{fold_id}_test.parquet\"),\n",
    "    )\n",
    "    train_df = pd.read_parquet(\n",
    "        os.path.join(DATA_DIR, f\"ts_fold_{fold_id}_train.parquet\"),\n",
    "    )\n",
    "\n",
    "    train_x = train_df.drop(columns=[\"target\", \"date\"])\n",
    "    train_y = train_df[\"target\"]\n",
    "    test_x = test_df.drop(columns=[\"target\", \"date\"])\n",
    "    test_y = test_df[\"target\"]\n",
    "\n",
    "    # Initialize the classification model\n",
    "    model = LGBMClassifier(**params)\n",
    "    \n",
    "    # Train the model and measure time\n",
    "    start_time = time.perf_counter()\n",
    "    model.fit(\n",
    "        train_x, train_y,\n",
    "        eval_set=[(test_x, test_y)],\n",
    "        eval_metric='logloss',\n",
    "    )\n",
    "    end_time = time.perf_counter()\n",
    "    training_time = end_time - start_time\n",
    "    \n",
    "    # Make predictions\n",
    "    y_pred_proba = model.predict_proba(test_x)[:, 1]  # Probability of positive class\n",
    "    y_pred = model.predict(test_x)  # Class predictions\n",
    "    \n",
    "    # Calculate classification metrics\n",
    "    accuracy = accuracy_score(test_y, y_pred)\n",
    "    precision = precision_score(test_y, y_pred)\n",
    "    recall = recall_score(test_y, y_pred)\n",
    "    f1 = f1_score(test_y, y_pred)\n",
    "    auc = roc_auc_score(test_y, y_pred_proba)\n",
    "\n",
    "    # Store detailed classification report as string\n",
    "    class_report = classification_report(test_y, y_pred)\n",
    "    print(f\"\\nClassification Report for fold {fold_id}:\")\n",
    "    print(class_report)\n",
    "\n",
    "    results = {\n",
    "        \"fold_id\": fold_id,\n",
    "        'accuracy': accuracy,\n",
    "        'precision': precision,\n",
    "        'recall': recall,\n",
    "        'f1_score': f1,\n",
    "        'auc_roc': auc,\n",
    "        'training_time': training_time,\n",
    "    }\n",
    "    results.update(params)\n",
    "\n",
    "    # generate uuid string for the results file name\n",
    "    fp_id = str(uuid.uuid4())\n",
    "    fp_name = os.path.join(RESULTS_DIR, f\"results_fold_{fold_id}_{fp_id}.parquet\")\n",
    "\n",
    "    results_df = pd.DataFrame([results])\n",
    "    results_df.to_parquet(\n",
    "        fp_name,\n",
    "        index=False,\n",
    "    )\n",
    "\n",
    "    return fp_name"
   ]
  },
  {
   "cell_type": "code",
   "execution_count": 13,
   "id": "0ad1154b",
   "metadata": {},
   "outputs": [
    {
     "name": "stdout",
     "output_type": "stream",
     "text": [
      "Training LightGBM classification model...{'fold_id': 1}\n",
      "[LightGBM] [Info] Number of positive: 8051, number of negative: 11949\n",
      "[LightGBM] [Info] Auto-choosing col-wise multi-threading, the overhead of testing was 0.004598 seconds.\n",
      "You can set `force_col_wise=true` to remove the overhead.\n",
      "[LightGBM] [Info] Total Bins 25500\n",
      "[LightGBM] [Info] Number of data points in the train set: 20000, number of used features: 100\n",
      "[LightGBM] [Info] [binary:BoostFromScore]: pavg=0.402550 -> initscore=-0.394851\n",
      "[LightGBM] [Info] Start training from score -0.394851\n",
      "\n",
      "Classification Report for fold 1:\n",
      "              precision    recall  f1-score   support\n",
      "\n",
      "           0       0.89      0.96      0.93     11894\n",
      "           1       0.94      0.83      0.88      8106\n",
      "\n",
      "    accuracy                           0.91     20000\n",
      "   macro avg       0.91      0.90      0.90     20000\n",
      "weighted avg       0.91      0.91      0.91     20000\n",
      "\n"
     ]
    },
    {
     "data": {
      "text/plain": [
       "'/home/jovyan/results/classification/results_fold_1_0081ae49-9c72-4b9c-90ce-33b469183ad8.parquet'"
      ]
     },
     "execution_count": 13,
     "metadata": {},
     "output_type": "execute_result"
    }
   ],
   "source": [
    "train_lightgbm_model({\"fold_id\": 1})"
   ]
  }
 ],
 "metadata": {
  "kernelspec": {
   "display_name": "Python 3 (ipykernel)",
   "language": "python",
   "name": "python3"
  },
  "language_info": {
   "codemirror_mode": {
    "name": "ipython",
    "version": 3
   },
   "file_extension": ".py",
   "mimetype": "text/x-python",
   "name": "python",
   "nbconvert_exporter": "python",
   "pygments_lexer": "ipython3",
   "version": "3.12.10"
  }
 },
 "nbformat": 4,
 "nbformat_minor": 5
}
